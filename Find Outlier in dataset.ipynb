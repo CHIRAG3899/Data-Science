{
 "cells": [
  {
   "cell_type": "markdown",
   "id": "174f1b9e",
   "metadata": {},
   "source": [
    "### What is an outlier?"
   ]
  },
  {
   "cell_type": "markdown",
   "id": "84579326",
   "metadata": {},
   "source": [
    "An outlier is a data point in a data set that is distant from all other observations. A data point that lies outside the overall distribution of the dataset."
   ]
  },
  {
   "cell_type": "code",
   "execution_count": 1,
   "id": "c674da21",
   "metadata": {},
   "outputs": [],
   "source": [
    "import numpy as np\n",
    "import matplotlib.pyplot as plt\n",
    "%matplotlib inline"
   ]
  },
  {
   "cell_type": "markdown",
   "id": "92da259d",
   "metadata": {},
   "source": [
    "### What is the reason for an outlier to exists in a dataset?"
   ]
  },
  {
   "cell_type": "markdown",
   "id": "f2f62847",
   "metadata": {},
   "source": [
    "1. Variability in the data\n",
    "2. An experimental measurement error"
   ]
  },
  {
   "cell_type": "markdown",
   "id": "eb9950a4",
   "metadata": {},
   "source": [
    "### What are the impacts of having outliers in a dataset?"
   ]
  },
  {
   "cell_type": "markdown",
   "id": "1fe1a981",
   "metadata": {},
   "source": [
    "1. It causes various problems during our statistical analysis\n",
    "2. It may cause a significant impact on the mean and the standard deviation"
   ]
  },
  {
   "cell_type": "markdown",
   "id": "04409b18",
   "metadata": {},
   "source": [
    "### Various ways of finding the outlier."
   ]
  },
  {
   "cell_type": "markdown",
   "id": "3f7c9255",
   "metadata": {},
   "source": [
    "1. Using scatter plots\n",
    "2. Box plot\n",
    "3. using z score\n",
    "4. using the IQR interquantile range"
   ]
  },
  {
   "cell_type": "code",
   "execution_count": 2,
   "id": "00de23ab",
   "metadata": {},
   "outputs": [],
   "source": [
    "dataset= [11,10,12,14,12,15,14,13,15,102,12,14,17,19,107, 10,13,12,14,12,108,12,11,14,13,15,10,15,12,10,14,13,15,10]"
   ]
  },
  {
   "cell_type": "markdown",
   "id": "a25519cb",
   "metadata": {},
   "source": [
    "### Detecting outlier using Z score"
   ]
  },
  {
   "cell_type": "code",
   "execution_count": 10,
   "id": "fd237356",
   "metadata": {},
   "outputs": [],
   "source": [
    "outliers=[]\n",
    "def detect_outliers(data):\n",
    "    \n",
    "    threshold=3\n",
    "    mean = np.mean(data)\n",
    "    std =np.std(data)\n",
    "    \n",
    "    \n",
    "    for i in data:\n",
    "        z_score= (i - mean)/std \n",
    "        if np.abs(z_score) > threshold:\n",
    "            outliers.append(i)\n",
    "    return outliers"
   ]
  },
  {
   "cell_type": "code",
   "execution_count": 11,
   "id": "570e5ab4",
   "metadata": {},
   "outputs": [],
   "source": [
    "outlier_pt=detect_outliers(dataset)"
   ]
  },
  {
   "cell_type": "code",
   "execution_count": 12,
   "id": "1d5a67cf",
   "metadata": {},
   "outputs": [
    {
     "data": {
      "text/plain": [
       "[102, 107, 108]"
      ]
     },
     "execution_count": 12,
     "metadata": {},
     "output_type": "execute_result"
    }
   ],
   "source": [
    "outlier_pt"
   ]
  },
  {
   "cell_type": "markdown",
   "id": "2cff042e",
   "metadata": {},
   "source": [
    "### InterQuantile Range\n",
    "##### 75%- 25% values in a dataset"
   ]
  },
  {
   "cell_type": "code",
   "execution_count": 13,
   "id": "481e821b",
   "metadata": {},
   "outputs": [
    {
     "data": {
      "text/plain": [
       "[10,\n",
       " 10,\n",
       " 10,\n",
       " 10,\n",
       " 10,\n",
       " 11,\n",
       " 11,\n",
       " 12,\n",
       " 12,\n",
       " 12,\n",
       " 12,\n",
       " 12,\n",
       " 12,\n",
       " 12,\n",
       " 13,\n",
       " 13,\n",
       " 13,\n",
       " 13,\n",
       " 14,\n",
       " 14,\n",
       " 14,\n",
       " 14,\n",
       " 14,\n",
       " 14,\n",
       " 15,\n",
       " 15,\n",
       " 15,\n",
       " 15,\n",
       " 15,\n",
       " 17,\n",
       " 19,\n",
       " 102,\n",
       " 107,\n",
       " 108]"
      ]
     },
     "execution_count": 13,
     "metadata": {},
     "output_type": "execute_result"
    }
   ],
   "source": [
    "sorted(dataset)"
   ]
  },
  {
   "cell_type": "code",
   "execution_count": 14,
   "id": "3a5e7185",
   "metadata": {},
   "outputs": [],
   "source": [
    "quantile1, quantile3= np.percentile(dataset,[25,75])"
   ]
  },
  {
   "cell_type": "code",
   "execution_count": 15,
   "id": "5683c906",
   "metadata": {},
   "outputs": [
    {
     "name": "stdout",
     "output_type": "stream",
     "text": [
      "12.0 15.0\n"
     ]
    }
   ],
   "source": [
    "print(quantile1,quantile3)"
   ]
  },
  {
   "cell_type": "code",
   "execution_count": 16,
   "id": "ba88f2be",
   "metadata": {},
   "outputs": [
    {
     "name": "stdout",
     "output_type": "stream",
     "text": [
      "3.0\n"
     ]
    }
   ],
   "source": [
    "iqr_value=quantile3-quantile1\n",
    "print(iqr_value)"
   ]
  },
  {
   "cell_type": "code",
   "execution_count": 18,
   "id": "eaef8db0",
   "metadata": {},
   "outputs": [],
   "source": [
    "lower_bound_val = quantile1 -(1.5 * iqr_value) \n",
    "upper_bound_val = quantile3 +(1.5 * iqr_value)"
   ]
  },
  {
   "cell_type": "code",
   "execution_count": 20,
   "id": "e4e7cf2d",
   "metadata": {},
   "outputs": [
    {
     "name": "stdout",
     "output_type": "stream",
     "text": [
      "7.5 19.5\n"
     ]
    }
   ],
   "source": [
    "print(lower_bound_val,upper_bound_val)"
   ]
  },
  {
   "cell_type": "markdown",
   "id": "81fceab3",
   "metadata": {},
   "source": [
    "Anything that lies outside of lower and upper bound is an outlier"
   ]
  }
 ],
 "metadata": {
  "kernelspec": {
   "display_name": "Python 3",
   "language": "python",
   "name": "python3"
  },
  "language_info": {
   "codemirror_mode": {
    "name": "ipython",
    "version": 3
   },
   "file_extension": ".py",
   "mimetype": "text/x-python",
   "name": "python",
   "nbconvert_exporter": "python",
   "pygments_lexer": "ipython3",
   "version": "3.8.8"
  }
 },
 "nbformat": 4,
 "nbformat_minor": 5
}
